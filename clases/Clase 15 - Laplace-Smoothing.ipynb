{
 "cells": [
  {
   "cell_type": "markdown",
   "metadata": {},
   "source": [
    "# Clase 15\n",
    "- **Alumna:** Enya Quetzalli Gómez Rodríguez *(Eduardo Gómez Rodríguez)*\n",
    "- **Profesora:** Olga Kolesnikova\n",
    "- **Escuela:** Escuela Superior de Cómputo del IPN\n",
    "- **Grupo:** 3CV9\n",
    "- **Semestre:** 2020/2\n",
    "    \n",
    "## Laplace-Smoothing\n",
    "Laplace Smoothing, es una técnica muy sencilla que nos permite aproximarnos a una distribución uniforme y se utiliza regularmente en conjunto con el cálculo de la entropía. \n",
    "\n",
    "Normalmente calcularíamos al probabilidad de aparición de una palabra con la fórmula $P(X=v) = \\dfrac{f(v)}{|vocabulary|}$\n",
    "Pero para utilzar Laplace Smothing, es necesario incluir una variable $k$ que nos permitirá obtener una distribución probabilistica más uniforme.\n",
    "\n",
    "$$ \n",
    "P(X=v) = \\dfrac{f(v) + k}{|vocabulary| + f(v)*k}\n",
    "$$\n",
    "\n",
    "**Práctica** -> Utilizar Laplace Smoothing en nuestra función de palabres relacionadas con entropía."
   ]
  }
 ],
 "metadata": {
  "kernelspec": {
   "display_name": "Python 3",
   "language": "python",
   "name": "python3"
  },
  "language_info": {
   "codemirror_mode": {
    "name": "ipython",
    "version": 3
   },
   "file_extension": ".py",
   "mimetype": "text/x-python",
   "name": "python",
   "nbconvert_exporter": "python",
   "pygments_lexer": "ipython3",
   "version": "3.7.6"
  }
 },
 "nbformat": 4,
 "nbformat_minor": 4
}
