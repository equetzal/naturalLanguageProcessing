{
 "cells": [
  {
   "cell_type": "markdown",
   "metadata": {},
   "source": [
    "\n",
    "# Clase Online #1\n",
    "\n",
    "**Fecha:** 20.marzo.2020\n",
    "\n",
    "## Actividad Online 1\n",
    "\n",
    "Ver los videos de las clases impartidas por [Andrew Ng](https://es.wikipedia.org/wiki/Andrew_Ng)\n",
    "\n",
    "Los videos están [en esta lista](https://www.youtube.com/playlist?list=PLLssT5z_DsK-h9vYZkQkYNWcItqhlRJLN).\n",
    " \n",
    "Por favor, hasta mañana estudian [Lecture 1.1](https://youtu.be/PPLop4L2eGk), [Lecture 1.2](https://youtu.be/bQI5uDxrFfA), [Lecture 1.3](https://youtu.be/jAA2g9ItoAc)\n",
    "\n",
    "\n",
    "## Teoría\n",
    "\n",
    "*¿Cómo la máquina aprende?*\n",
    "\n",
    "Le damos datos, también se llaman ejemplos. Cada ejemplo es un vector numérico que representa el dato correspondiente. Para imágenes, el vector va a contener los valores de intensidades de colores de pixeles, para nosotros son características que estudiamos: frecuencia bruta, frecuencia relativa (probabilidad), tf-idf, etc. de palabras. \n",
    "\n",
    "Los vectores de ejemplos se representan como $x^{(i)}$ donde $i$ es el número del ejemplo. Los elementos (features) del vector también se representan por $x$, pero por $x$ con subíndice, por ejemplo, $x_j$ donde $j$ es el número del elemento del vector.\n",
    "\n",
    "Entonces cada dato es el vector de este tipo:\n",
    "$x^{(i)} = (x_1, x_2, \\dots, x_j, \\dots, x_n)$, para toda $1\\leq j \\leq n$\n",
    "\n",
    "$m$ es el número de ejemplos y $n$ es el número de características en un vector (longitud del vector).\n",
    "\n",
    "Cada vector $x^{(i)}$, está asociado con un valor que se representa por $y^{(i)}$. Entonces el conjunto de datos del tamaño $m$, va a contener los pares de tipo $(x^{(i)},y^{(i)})$.\n",
    "\n",
    "La idea de aprendizaje es enseñar a la máquina estos ejemplos (pares de tipo $(x^{(i)},y^{(i)})$, para que halla aprenda a predecir el valor de $y^{(i)}$ a partir del vector $x^{(i)}$.\n",
    "\n",
    "*¿Como precisamente se realiza este aprendizaje?*\n",
    "\n",
    "La máquina toma un vector $x^{(i)}$ y calcula el valor de $y$ que le corresponde a $x^{(i)}$ usando una cierta función o proceso. Este valor calculado de $y$ se llama el valor estimado de $y$, y se\n",
    "representa por $\\hat{y}^{(i)}$. Este valor $\\hat{y}^{(i)}$ normalmente es diferente del valor real $y^{(i)}$, es decir, hay un error de estimación. El error se puede calcular usando el método de diferencias cuadradas:\n",
    "$$\n",
    "errorDeEstimacion = (\\hat{y}^{(i)}-y^{(i)})^2\n",
    "$$\n",
    "\n",
    "El error de estimación o predicción también se llama **costo**. Para cada ejemplo se calcula el error\n",
    "de predicción, luego se suman todos los errores y se promedian por el número 𝑚 de ejemplos.\n",
    "Este promedio se llama **función de costo** que se denomina por la letra $J$\n",
    "$$\n",
    "J = \\dfrac{1}{2m}\\sum_{i=1}^{m}(\\hat{y}^{(i)}-y^{(i)})^2\n",
    "$$\n",
    "\n",
    "La función de costo a veces se llama función de pérdida o función de error.\n",
    "Ahora lo que hay que hacer es optimizar la función de costo, es decir, minimizar el error de predicción. El proceso de optimización se llama aprendizaje.\n",
    "\n",
    "## Actividad Online 2\n",
    "Por favor vean los videos:\n",
    "- [Lecture 2.1](https://youtu.be/kHwlB_j7Hkc)\n",
    "- [Lecture 2.2](https://youtu.be/yuH4iRcggMw) \n",
    "- [Lecture 2.3](https://youtu.be/yR2ipCoFvNo)\n",
    "- [Lecture 2.4](https://youtu.be/0kns1gXLYg4)\n",
    "\n",
    "Estudien bien su contenido, en estas clases ustedes van a conocer como se calcula el valor estimado de $\\hat{y}^{(i)}$"
   ]
  }
 ],
 "metadata": {
  "kernelspec": {
   "display_name": "Python 3",
   "language": "python",
   "name": "python3"
  },
  "language_info": {
   "codemirror_mode": {
    "name": "ipython",
    "version": 3
   },
   "file_extension": ".py",
   "mimetype": "text/x-python",
   "name": "python",
   "nbconvert_exporter": "python",
   "pygments_lexer": "ipython3",
   "version": "3.7.6"
  }
 },
 "nbformat": 4,
 "nbformat_minor": 4
}
