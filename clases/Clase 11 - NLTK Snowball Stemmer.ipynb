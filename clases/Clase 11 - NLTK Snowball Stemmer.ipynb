{
 "cells": [
  {
   "cell_type": "markdown",
   "metadata": {},
   "source": [
    "# Clase 11\n",
    "- **Alumna:** Enya Quetzalli Gómez Rodríguez *(Eduardo Gómez Rodríguez)*\n",
    "- **Profesora:** Olga Kolesnikova\n",
    "- **Escuela:** Escuela Superior de Cómputo del IPN\n",
    "- **Grupo:** 3CV9\n",
    "- **Semestre:** 2020/2\n",
    "    \n",
    "## NLTK Snowball Stemmer\n",
    "\n",
    "NLTK, nos provee de una serie de herramientas muy útiles para el procesamiento de lenguaje natural, y una de ellas es el \"snowball stemmer\", que nos permite crear derivaciones de palabras con el uso de algorítmos en lugar de un mapa de ellas como lo hacemos con el archivo *Generate*"
   ]
  },
  {
   "cell_type": "code",
   "execution_count": 1,
   "metadata": {},
   "outputs": [],
   "source": [
    "import nltk"
   ]
  },
  {
   "cell_type": "code",
   "execution_count": 2,
   "metadata": {},
   "outputs": [],
   "source": [
    "from nltk.stem import SnowballStemmer"
   ]
  },
  {
   "cell_type": "code",
   "execution_count": 3,
   "metadata": {},
   "outputs": [
    {
     "name": "stdout",
     "output_type": "stream",
     "text": [
      "trabaj\n"
     ]
    }
   ],
   "source": [
    "ss = SnowballStemmer(\"spanish\")\n",
    "print(ss.stem(\"trabajo\"))"
   ]
  },
  {
   "cell_type": "markdown",
   "metadata": {},
   "source": [
    "Como podemos ver, Snowball ya nos permite establecer un idioma de trabajo y directamente crear tokens derivados de una palabra."
   ]
  },
  {
   "cell_type": "code",
   "execution_count": 5,
   "metadata": {},
   "outputs": [
    {
     "name": "stdout",
     "output_type": "stream",
     "text": [
      "com\n",
      "com\n",
      "com\n",
      "dij\n",
      "dic\n",
      "dij\n",
      "dij\n"
     ]
    }
   ],
   "source": [
    "vector = [\"comida\", \"comemos\", \"comer\", \"dije\", \"dices\", \"dijimos\", \"dijiste\"]\n",
    "for word in vector:\n",
    "    print(ss.stem(word))"
   ]
  }
 ],
 "metadata": {
  "kernelspec": {
   "display_name": "Python 3",
   "language": "python",
   "name": "python3"
  },
  "language_info": {
   "codemirror_mode": {
    "name": "ipython",
    "version": 3
   },
   "file_extension": ".py",
   "mimetype": "text/x-python",
   "name": "python",
   "nbconvert_exporter": "python",
   "pygments_lexer": "ipython3",
   "version": "3.7.6"
  }
 },
 "nbformat": 4,
 "nbformat_minor": 4
}
