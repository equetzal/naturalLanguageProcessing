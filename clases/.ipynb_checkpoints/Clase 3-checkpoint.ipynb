{
 "cells": [
  {
   "cell_type": "markdown",
   "metadata": {},
   "source": [
    "# Clase 3\n",
    "- **Alumna:** Enya Quetzalli Gómez Rodríguez *(Eduardo Gómez Rodríguez)*\n",
    "- **Profesora:** Olga Kolesnikova\n",
    "- **Escuela:** Escuela Superior de Cómputo del IPN\n",
    "- **Grupo:** 3CV9\n",
    "- **Semestre:** 2020/2\n",
    "\n",
    "## Fundamentos Matemáticos del Lenguaje Natural\n",
    "- Un **evento**, es igual a una *palabra*, y una palabra se representa como $w$, por ejemplo $w_1,w_2,\\dots,w_n$.\n",
    "- Un **espacio de probabilidad** es el conjunto de eventos $V$\n",
    "- Una **variable aleatoria** $x$, es un *conjunto*\n",
    "- La **distribución discreta** de probabilidad se representa con $\\theta$\n",
    "\n",
    "### Verosimilitud\n",
    "La verosimilitud o *likelihood* por su nombre en inglés, es el calculo de la probabilidad de una oración. \n",
    "Dentro de la verosimilitud, el simbolo $|$ no es utilizado como como condicional como se podría pensar al hablar de probabilidad, sin embargo es utilizado para representar la verosimilitud.\n",
    "\n",
    "La letras $L$ y $P$, se usan indistintamente para la sintáxis de la verosimilitud, por ejemplo \n",
    "\n",
    "$$L(probabilidadDeEvento|evento)$$\n",
    "\n",
    "$$P(evento|probabilidadDeEveto)$$\n",
    "\n",
    "#### Función de verosimilitud para la distribución binomial \n",
    "\n",
    "$$ p(k|\\theta) = {n \\choose k}\\theta^k(1-\\theta)^{n-k} $$\n",
    "\n",
    "$$ p(k|\\theta) = \\dfrac{n!}{k!(n-k)!}\\theta^k(1-\\theta)^{n-k} $$\n",
    "\n",
    "$$ p(k|\\theta) = \\ \\propto \\theta^k(1-\\theta)^{n-k} $$\n",
    "\n",
    "### El problema del fitting\n",
    "Se le llama al problema del fitting, obtener una función que describa los casos en los cuales un conjunto de casos pertenecen o no a un grupo de soluciones. Esta función puede ser *underfitting* al ser demasiado simple para explicar la varianza, o puede ser *overfitting* donde la función es altamente probable que sea correcta al adaptarse a la perfección en todos los casos conocidos. \n",
    "\n",
    "<img src=\"./fittingProblem.png\" width=50%/>\n",
    "\n",
    "En la imagen podemos ver con mayor claridad este comportamiento.\n"
   ]
  },
  {
   "cell_type": "code",
   "execution_count": null,
   "metadata": {},
   "outputs": [],
   "source": []
  }
 ],
 "metadata": {
  "kernelspec": {
   "display_name": "Python 3",
   "language": "python",
   "name": "python3"
  },
  "language_info": {
   "codemirror_mode": {
    "name": "ipython",
    "version": 3
   },
   "file_extension": ".py",
   "mimetype": "text/x-python",
   "name": "python",
   "nbconvert_exporter": "python",
   "pygments_lexer": "ipython3",
   "version": "3.7.6"
  }
 },
 "nbformat": 4,
 "nbformat_minor": 4
}
