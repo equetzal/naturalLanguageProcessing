{
 "cells": [
  {
   "cell_type": "markdown",
   "metadata": {},
   "source": [
    "# Clase 7\n",
    "- **Alumna:** Enya Quetzalli Gómez Rodríguez *(Eduardo Gómez Rodríguez)*\n",
    "- **Profesora:** Olga Kolesnikova\n",
    "- **Escuela:** Escuela Superior de Cómputo del IPN\n",
    "- **Grupo:** 3CV9\n",
    "- **Semestre:** 2020/2\n",
    "\n",
    "## Normalización de Texto\n",
    "El código HTML, tiene mucho contenido del cuál podemos extraer artículos, noticias, y un sin fin de documentos que pueden ser encontrados por la web. Esto nos permite utilizar contenido escaneado por la web para obtener datos significativos para el procesamiento del lenguaje natural. Sin embargo, el HTML tiene muchas etiquetas que nos dificultan el procesado de estos datos, es por ello que antes de ser utilizado debe de ser normalizado. \n",
    "\n",
    "### Limpiar etiquetas HTML\n",
    "Para lograrlo, podemos utilizar la librería de BeautifulSoup, que nos permite limpiar los tags de HTML. "
   ]
  },
  {
   "cell_type": "code",
   "execution_count": 1,
   "metadata": {},
   "outputs": [],
   "source": [
    "import nltk"
   ]
  },
  {
   "cell_type": "code",
   "execution_count": 2,
   "metadata": {},
   "outputs": [],
   "source": [
    "def clean_html(txt):\n",
    "\tfrom bs4 import BeautifulSoup\n",
    "\treturn BeautifulSoup(txt,'lxml').get_text().lower()"
   ]
  },
  {
   "cell_type": "code",
   "execution_count": 3,
   "metadata": {},
   "outputs": [
    {
     "name": "stdout",
     "output_type": "stream",
     "text": [
      "<!DOCTYPE html>\n",
      "<html lang='es'>\n",
      "<head>\n",
      "<meta charset='UTF-8'>\n",
      "<title>e961024_mod.htm</title>\n",
      "</head>\n",
      "<body>\n",
      "\n",
      "http://www.excelsior.com.mx/9610/961024/art01.html\n",
      "\n",
      "\n",
      "<title>Excelsior: Editorial</title>\n",
      "\n",
      "\n",
      "<basefont size=\"3\">\n",
      "<img src=\"/gifs/ban_editorial.gif\">\n",
      "<hr><h5 align=\"right\">Jueves 24 de Octubre de 1996\n",
      "</h5>\n",
      "<h3>Epigrama\n",
      "</h3><p></p><p>\n",
      "<b>JORGE MANSILLA TORRES</b></p><p>\n",
      "</p><p>\n",
      "Critica el Miami Herald al Presidente ecuatoriano, por autoproclamarse loco.</p><p>\n",
      "</p><p>\n",
      "El neoliberalismo</p><p>\n",
      "que se aplica sin encomio</p><p>\n",
      "hace que sean lo mismo</p><p>\n",
      "un país y un manicomio.</p><p>\n",
      "</\n"
     ]
    }
   ],
   "source": [
    "f = open(\"./c7_docs/e961024.htm\", \"r\", encoding=\"utf8\")\n",
    "org_txt = f.read()\n",
    "f.close()\n",
    "print(org_txt[:600])"
   ]
  },
  {
   "cell_type": "code",
   "execution_count": 4,
   "metadata": {},
   "outputs": [
    {
     "name": "stdout",
     "output_type": "stream",
     "text": [
      "\n",
      "\n",
      "\n",
      "e961024_mod.htm\n",
      "\n",
      "\n",
      "\n",
      "http://www.excelsior.com.mx/9610/961024/art01.html\n",
      "\n",
      "\n",
      "excelsior: editorial\n",
      "\n",
      "\n",
      "jueves 24 de octubre de 1996\n",
      "\n",
      "epigrama\n",
      "\n",
      "jorge mansilla torres\n",
      "\n",
      "critica el miami herald al presidente ecuatoriano, por autoproclamarse loco.\n",
      "\n",
      "el neoliberalismo\n",
      "que se aplica sin encomio\n",
      "hace que sean lo mismo\n",
      "un país y un manicomio.\n",
      "\n",
      "editorial -\n",
      "nota siguiente\n",
      "\n",
      "http://www.excelsior.com.mx/9610/961024/art02.html\n",
      "\n",
      "\n",
      "excelsior: editorial\n",
      "\n",
      "\n",
      "jueves 24 de octubre de 1996\n",
      "\n",
      "hungría\n",
      "\n",
      "la rebelión antiestalinista de 1956\n",
      "\n",
      "oscar gonzalez lopez\n",
      "\n",
      "en el curso de octubre de 1956, una insurgencia popular comandada p\n"
     ]
    }
   ],
   "source": [
    "html_clean_text = clean_html(org_txt)\n",
    "print(html_clean_text[:600])"
   ]
  },
  {
   "cell_type": "markdown",
   "metadata": {},
   "source": [
    "### Eliminar caracteres delimitadores\n",
    "Para poder obtener un texto más cercano a las palabras de nuestro interés, reemplazaremos todos los caracteres separadores con espacios."
   ]
  },
  {
   "cell_type": "code",
   "execution_count": 5,
   "metadata": {},
   "outputs": [],
   "source": [
    "def split_text(txt):\n",
    "\treturn txt.replace('/', ' ').replace('.', ' ').replace('-', ' ')"
   ]
  },
  {
   "cell_type": "code",
   "execution_count": 7,
   "metadata": {},
   "outputs": [
    {
     "name": "stdout",
     "output_type": "stream",
     "text": [
      "\n",
      "\n",
      "\n",
      "e961024_mod htm\n",
      "\n",
      "\n",
      "\n",
      "http:  www excelsior com mx 9610 961024 art01 html\n",
      "\n",
      "\n",
      "excelsior: editorial\n",
      "\n",
      "\n",
      "jueves 24 de octubre de 1996\n",
      "\n",
      "epigrama\n",
      "\n",
      "jorge mansilla torres\n",
      "\n",
      "critica el miami herald al presidente ecuatoriano, por autoproclamarse loco \n",
      "\n",
      "el neoliberalismo\n",
      "que se aplica sin encomio\n",
      "hace que sean lo mismo\n",
      "un país y un manicomio \n",
      "\n",
      "editorial  \n",
      "nota siguiente\n",
      "\n",
      "http:  www excelsior com mx 9610 961024 art02 html\n",
      "\n",
      "\n",
      "excelsior: editorial\n",
      "\n",
      "\n",
      "jueves 24 de octubre de 1996\n",
      "\n",
      "hungría\n",
      "\n",
      "la rebelión antiestalinista de 1956\n",
      "\n",
      "oscar gonzalez lopez\n",
      "\n",
      "en el curso de octubre de 1956, una insurgencia popular comandada p\n"
     ]
    }
   ],
   "source": [
    "text_splited = split_text(html_clean_text)\n",
    "print(text_splited[:600])"
   ]
  },
  {
   "cell_type": "markdown",
   "metadata": {},
   "source": [
    "### Eliminar caracteres no alfabeticos\n",
    "Para obtener un texto que solo contenga palabras, debemos eliminar todos los carateres que no pertenezcan al abecedario."
   ]
  },
  {
   "cell_type": "code",
   "execution_count": 8,
   "metadata": {},
   "outputs": [],
   "source": [
    "def delete_trash(txt):\n",
    "\timport re\n",
    "\tgood = {'\\n'}\n",
    "\tfor i in \"abcdefghijklmnopqrstuvwxyz áéíóúñü\":\n",
    "\t\tgood.add(i)\n",
    "\tans = \"\"\n",
    "\tfor c in txt:\n",
    "\t\tif c in good:\n",
    "\t\t\tans += c\n",
    "\treturn ans"
   ]
  },
  {
   "cell_type": "code",
   "execution_count": 9,
   "metadata": {},
   "outputs": [
    {
     "name": "stdout",
     "output_type": "stream",
     "text": [
      "\n",
      "\n",
      "\n",
      "emod htm\n",
      "\n",
      "\n",
      "\n",
      "http  www excelsior com mx   art html\n",
      "\n",
      "\n",
      "excelsior editorial\n",
      "\n",
      "\n",
      "jueves  de octubre de \n",
      "\n",
      "epigrama\n",
      "\n",
      "jorge mansilla torres\n",
      "\n",
      "critica el miami herald al presidente ecuatoriano por autoproclamarse loco \n",
      "\n",
      "el neoliberalismo\n",
      "que se aplica sin encomio\n",
      "hace que sean lo mismo\n",
      "un país y un manicomio \n",
      "\n",
      "editorial  \n",
      "nota siguiente\n",
      "\n",
      "http  www excelsior com mx   art html\n",
      "\n",
      "\n",
      "excelsior editorial\n",
      "\n",
      "\n",
      "jueves  de octubre de \n",
      "\n",
      "hungría\n",
      "\n",
      "la rebelión antiestalinista de \n",
      "\n",
      "oscar gonzalez lopez\n",
      "\n",
      "en el curso de octubre de  una insurgencia popular comandada por estudiantes intelectuales y obreros partidarios de est\n"
     ]
    }
   ],
   "source": [
    "text = delete_trash(text_splited)\n",
    "print(text[:600])"
   ]
  },
  {
   "cell_type": "markdown",
   "metadata": {},
   "source": [
    "Como podemos ver, ahora el texto tiene una apariencia mucho más limpia, y no contiene simbolos ni números, de forma que las palabras se encuentran mucho más cercanas. \n",
    "\n",
    "### Obtener tokens\n",
    "Ahora debemos convertir el texto en tokens, es decir obtener cada palabra clasificada. \n",
    "Para ello utilizaremos la librería de **nltk** con la función de *word_tokenize* que nos regresará una lista de palabras. "
   ]
  },
  {
   "cell_type": "code",
   "execution_count": 10,
   "metadata": {},
   "outputs": [
    {
     "name": "stdout",
     "output_type": "stream",
     "text": [
      "['emod', 'htm', 'http', 'www', 'excelsior', 'com', 'mx', 'art', 'html', 'excelsior', 'editorial', 'jueves', 'de', 'octubre', 'de', 'epigrama', 'jorge', 'mansilla', 'torres', 'critica', 'el', 'miami', 'herald', 'al', 'presidente', 'ecuatoriano', 'por', 'autoproclamarse', 'loco', 'el', 'neoliberalismo', 'que', 'se', 'aplica', 'sin', 'encomio', 'hace', 'que', 'sean', 'lo', 'mismo', 'un', 'país', 'y', 'un', 'manicomio', 'editorial', 'nota', 'siguiente', 'http', 'www', 'excelsior', 'com', 'mx', 'art', 'html', 'excelsior', 'editorial', 'jueves', 'de', 'octubre', 'de', 'hungría', 'la', 'rebelión', 'antiestalinista', 'de', 'oscar', 'gonzalez', 'lopez', 'en', 'el', 'curso', 'de', 'octubre', 'de', 'una', 'insurgencia', 'popular', 'comandada', 'por', 'estudiantes', 'intelectuales', 'y', 'obreros', 'partidarios', 'de', 'establecer', 'en', 'suelo', 'húngaro', 'un', 'régimen', 'socialista', 'con', 'libertad', 'creció', 'vertiginosamente', 'hasta', 'desembocar', 'en', 'una', 'auténtica', 'insurrección', 'armada', 'contra', 'la', 'estructura', 'estalinista', 'del', 'estado', 'surgido', 'como', 'consecuencia', 'de', 'los', 'resultados', 'de', 'la', 'primera', 'guerra', 'mundial', 'a', 'años', 'de', 'distancia', 'conviene', 'analizar', 'los', 'acontecimientos', 'del', 'otoño', 'magyar', 'dada', 'la', 'conducta', 'adoptada', 'en', 'por', 'el', 'gobierno', 'de', 'la', 'urss', 'y', 'los', 'partidos', 'comunistas', 'en', 'el', 'poder', 'con', 'actividad', 'parlamentaria', 'e', 'influencia', 'innegable', 'en', 'la', 'clase', 'trabajadora', 'de', 'países', 'de', 'europa', 'occidental', 'como', 'francia', 'e', 'italia', 'con', 'lucha', 'librada', 'en', 'condiciones', 'de', 'clandestinidad', 'y', 'persecución', 'en', 'las', 'dictaduras', 'de', 'españa', 'grecia', 'y', 'portugal', 'y', 'en', 'las', 'asentadas', 'con', 'patrocinio', 'estadunidense', 'en', 'la', 'mayoría', 'de', 'las', 'naciones', 'latinoamericanas', 'asombra', 'en', 'verdad', 'a', 'años', 'de', 'distancia', 'que', 'todavía', 'hasta', 'y', 'dado', 'ya', 'el', 'yugulamiento', 'de', 'la', 'experiencia', 'checoslovaca', 'de', 'construir', 'un', 'socialismo', 'con', 'rostro', 'humano', 'en', 'la', 'primavera', 'de', 'la', 'mayoría', 'de', 'la', 'izquierda', 'comunista', 'aceptara', 'en', 'todas', 'las', 'latitudes', 'el', 'punto', 'de', 'vista', 'de', 'los', 'ideólogos', 'y', 'políticos', 'del', 'partido', 'comunista', 'de', 'la', 'urss', 'y', 'lo', 'repitiera', 'sobre', 'los', 'hechos', 'de', 'en', 'su', 'ámbito', 'de', 'acción', 'un', 'militante', 'de', 'esa', 'izquierda', 'de', 'esos', 'años', 'es', 'el', 'que', 'escribe', 'estas', 'líneas', 'asombra', 'en', 'verdad', 'que', 'así', 'como', 'en', 'la', 'segunda', 'mitad', 'de', 'los', 'años', 'intelectuales', 'de', 'renombre', 'mundial']\n"
     ]
    }
   ],
   "source": [
    "dirty_tokens = nltk.word_tokenize(text)\n",
    "print(dirty_tokens[:300])"
   ]
  },
  {
   "cell_type": "markdown",
   "metadata": {},
   "source": [
    "### Limpiar stopwords\n",
    "Como vemos, ahora el texto ha sido convertido en tokens, sin embargo muchos de estos tokens son palabras transitivas, como los nexos y los pronombres, que realmente no aportan contenido al contexto o al significado de las oraciones. Por ello, debemos limpiar las llamadas *stopwords*, y para ello utilizaremos la librería de **nltk** que nos ofrece un conjunto de *stopwords* y como resultado obtendremos un texto sin palabras como *es*,*de*,*los*,*en*,*su*,etc..."
   ]
  },
  {
   "cell_type": "code",
   "execution_count": 11,
   "metadata": {},
   "outputs": [],
   "source": [
    "def delete_stopwords(txt):\n",
    "\tfrom nltk.corpus import stopwords\n",
    "\tans = []\n",
    "\tstp = stopwords.words()\n",
    "\tfor w in txt:\n",
    "\t\tif w not in stp:\n",
    "\t\t\tans.append(w)\n",
    "\treturn ans"
   ]
  },
  {
   "cell_type": "code",
   "execution_count": 12,
   "metadata": {
    "scrolled": true
   },
   "outputs": [
    {
     "name": "stdout",
     "output_type": "stream",
     "text": [
      "['emod', 'htm', 'http', 'www', 'excelsior', 'mx', 'art', 'html', 'excelsior', 'editorial', 'jueves', 'octubre', 'epigrama', 'jorge', 'mansilla', 'torres', 'critica', 'miami', 'herald', 'presidente', 'ecuatoriano', 'autoproclamarse', 'loco', 'neoliberalismo', 'aplica', 'encomio', 'hace', 'mismo', 'país', 'manicomio', 'editorial', 'nota', 'siguiente', 'http', 'www', 'excelsior', 'mx', 'art', 'html', 'excelsior', 'editorial', 'jueves', 'octubre', 'hungría', 'rebelión', 'antiestalinista', 'oscar', 'gonzalez', 'lopez', 'curso', 'octubre', 'insurgencia', 'popular', 'comandada', 'estudiantes', 'intelectuales', 'obreros', 'partidarios', 'establecer', 'suelo', 'húngaro', 'régimen', 'socialista', 'libertad', 'creció', 'vertiginosamente', 'desembocar', 'auténtica', 'insurrección', 'armada', 'estructura', 'estalinista', 'surgido', 'consecuencia', 'resultados', 'primera', 'guerra', 'mundial', 'años', 'distancia', 'conviene', 'analizar', 'acontecimientos', 'otoño', 'magyar', 'dada', 'conducta', 'adoptada', 'gobierno', 'urss', 'partidos', 'comunistas', 'poder', 'actividad', 'parlamentaria', 'influencia', 'innegable', 'clase', 'trabajadora', 'países', 'europa', 'occidental', 'francia', 'italia', 'lucha', 'librada', 'condiciones', 'clandestinidad', 'persecución', 'dictaduras', 'españa', 'grecia', 'portugal', 'asentadas', 'patrocinio', 'estadunidense', 'mayoría', 'naciones', 'latinoamericanas', 'asombra', 'verdad', 'años', 'distancia', 'todavía', 'dado', 'yugulamiento', 'experiencia', 'checoslovaca', 'construir', 'socialismo', 'rostro', 'humano', 'primavera', 'mayoría', 'izquierda', 'comunista', 'aceptara', 'todas', 'latitudes', 'punto', 'vista', 'ideólogos', 'políticos', 'partido', 'comunista', 'urss', 'repitiera', 'hechos', 'ámbito', 'acción', 'militante', 'izquierda', 'años', 'escribe', 'líneas', 'asombra', 'verdad', 'así', 'segunda', 'mitad', 'años', 'intelectuales', 'renombre', 'mundial', 'simpatizantes', 'socialismo', 'soviético', 'partidos', 'comunistas', 'aceptaran', 'mayor', 'análisis', 'puntos', 'vista', 'moscú', 'execrables', 'procesos', 'terminaron', 'liquidación', 'lúcidos', 'probados', 'cuadros', 'políticos', 'militares', 'pcus', 'causaron', 'necrosis', 'socialismo', 'llamado', 'real', 'asombra', 'admitiera', 'septiembre', 'sarta', 'calumnias', 'gran', 'revolucionario', 'héroe', 'clase', 'trabajadora', 'pueblo', 'húngaro', 'laszlo', 'rajk', 'protestara', 'condena', 'horca', 'mismo', 'asombra', 'años', 'después', 'otoño', 'militancia', 'comunista', 'occidente', 'aceptado', 'decires', 'kremlin', 'insurgencia', 'popular', 'húngara', 'esclarecido', 'resuelto', 'conductor', 'imre', 'revuelta', 'fascista', 'asonada', 'clerical', 'intentona', 'latifundista', 'reconquistar', 'poder', 'arriba', 'bien', 'viña', 'húngara', 'racimos', 'principales', 'socialistas', 'fruto', 'desestalinización', 'emprendida', 'partir', 'xx', 'congreso', 'pc', 'urss', 'febrero', 'reacomodo', 'diversas', 'corrientes', 'partidos', 'comunistas', 'países', 'europa', 'oriental', 'octubre', 'polonia', 'tras', 'encarcelamiento', 'dictado', 'estalinistas', 'locales', 'llega', 'prestigiado', 'dirigente', 'obrero', 'wladyslaw', 'gomulka', 'puestos', 'poder', 'partido', 'gobierno', 'aviva', 'movilización', 'popular', 'hungría', 'integrantes', 'círculo', 'petfi', 'compendian', 'aspiraciones', 'socialismo', 'democrático', 'desplazamiento', 'absoluto', 'estalinista', 'ger', 'juicio', 'castigo', 'verdugo', 'laszlo', 'rajk', 'vesánico', 'farkas', 'nombramiento', 'imre', 'extracción', 'campesina']\n"
     ]
    }
   ],
   "source": [
    "tokens = delete_stopwords(dirty_tokens)\n",
    "print(tokens[:300])"
   ]
  },
  {
   "cell_type": "markdown",
   "metadata": {},
   "source": [
    "Luego de este proceso, tenemos un texto pseudo normalizado, el cuál aún le hacen falta procesos de lematización o estematización, pero estos serán vistos en otra ocasión."
   ]
  }
 ],
 "metadata": {
  "kernelspec": {
   "display_name": "Python 3",
   "language": "python",
   "name": "python3"
  },
  "language_info": {
   "codemirror_mode": {
    "name": "ipython",
    "version": 3
   },
   "file_extension": ".py",
   "mimetype": "text/x-python",
   "name": "python",
   "nbconvert_exporter": "python",
   "pygments_lexer": "ipython3",
   "version": "3.7.6"
  }
 },
 "nbformat": 4,
 "nbformat_minor": 4
}
