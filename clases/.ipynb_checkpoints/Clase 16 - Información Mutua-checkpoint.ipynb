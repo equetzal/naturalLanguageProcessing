{
 "cells": [
  {
   "cell_type": "markdown",
   "metadata": {},
   "source": [
    "# Clase 16\n",
    "- **Alumna:** Enya Quetzalli Gómez Rodríguez *(Eduardo Gómez Rodríguez)*\n",
    "- **Profesora:** Olga Kolesnikova\n",
    "- **Escuela:** Escuela Superior de Cómputo del IPN\n",
    "- **Grupo:** 3CV9\n",
    "- **Semestre:** 2020/2\n",
    "    \n",
    "## Información Mutua (*Mutual Information* ***MI***)\n",
    "La Información Mutua es un concepto que pertenece principalmente a la teoría de la probabilidad, que ha tomado mucha reelevancia en el campo del manejo de la información como el lenguaje natural. \n",
    "\n",
    "La ***MI*** es una medida de la dependencia de dos variables aleatorias que nos ayuda a disminuír la incertidumbre del análisis del lenguaje natural. Si vemos un diagrama de *venn*, podemos observar qué es los que calcula la información de una variable.\n",
    "\n",
    "![](./c16_docs/Entropy-mutual-information-relative-entropy-relation-diagram.svg)\n",
    "\n",
    "Para calcular la información mutua entre dos variables aleatorias, usaremos la siguiente fórmula:\n",
    "\n",
    "$$ \n",
    "I(X_{1},I_{2}) = \\sum_{x_{i}}{ \\sum_{x_{2}}{ p(x_{1},x_{2}) * \\log_{2}{ \\dfrac{p(x_{1},x_{2})}{p(x_{1}) p(x_{2})} } } }\n",
    "$$\n",
    "\n",
    "Veamos un ejemplo de uso de fórmula con el lanzamiento de una moneda $A$ y una moneda $B$ con $p=0.5$ como eventos independientes.\n",
    "\n",
    "|  A/B | Cara | Cruz |\n",
    "| ---- | ---- | ---- |\n",
    "| Cara | 0.25 | 0.25 |\n",
    "| Cruz | 0.25 | 0.25 |\n",
    "\n",
    "Como podemos ver en la tabla, el lanzar una moneda tiene 0.5 de probabilidad entre cara y cruz, pero el resultado de ese primer lanzamiento no repercute en los resultados de la segunda. Es decir, que el lanzamiento de una moneda no disminuirá el nivel de incertidumbre del lanzamiento de la otra moneda.\n",
    "\n",
    "Sin embargo en un ejemplo como este:\n",
    "\n",
    "|  A/B | Cara | Cruz |\n",
    "| ---- | ---- | ---- |\n",
    "| Cara | 0.0  | 0.5  |\n",
    "| Cruz | 0.5  | 0.0  |\n",
    "\n",
    "Nos dice que si una sale cara, sabemos que la otra caerá cruz, de forma que el lanzamiento de una monenda tiene un nivel de incertidumbre que la segunda moneda pierde al haber realizado el primer lanzamiento. \n",
    "\n",
    "En lenguaje natural, lo podemos ver como el siguiente caso:\n",
    "*Supongamos que regularmente mientras platicas por whatsapp, es muy común que le platiques a tus amigos y familia sobre tu perrito sirius, de forma que tu teclado comienza a guardar tus textos para alimentar el panel de palabras sugeridas*\n",
    "\n",
    "El nivel de entropía que tendría el nombre de tu perro ***sirius*** puede ser muy alto ya que el teclado no sabe cuando es que utilizarás esa palabra, pero al proveerle de ciera información éste puede mejorar su predicciones.\n",
    "\n",
    "Si le proveemos del texto *\"Estoy con mi perrito ...\"*, el nivel de entropía de la palabra ***sirius*** bajará y se posicionará como una palabra muy certera a recomendar. ***¿Cuál sería la probabilidad que de que escriba sirius tal que escribió perrito?***\n",
    "La información mutua, nos permitirá determinar también un nivel de incertidumbre para saber que tan probable es que la persona escriba ***perrito*** tal que escribió ***sirius***, por ejemplo *\"Sirius es mi perrito\"* caso donde las palabras de invierten en la oración. \n",
    "\n",
    "**Practica** -> Obtener palabras relacionadas utilizando Entropía, Laplace-Smoothing e Información Muta"
   ]
  },
  {
   "cell_type": "code",
   "execution_count": null,
   "metadata": {},
   "outputs": [],
   "source": []
  }
 ],
 "metadata": {
  "kernelspec": {
   "display_name": "Python 3",
   "language": "python",
   "name": "python3"
  },
  "language_info": {
   "codemirror_mode": {
    "name": "ipython",
    "version": 3
   },
   "file_extension": ".py",
   "mimetype": "text/x-python",
   "name": "python",
   "nbconvert_exporter": "python",
   "pygments_lexer": "ipython3",
   "version": "3.7.6"
  }
 },
 "nbformat": 4,
 "nbformat_minor": 4
}
