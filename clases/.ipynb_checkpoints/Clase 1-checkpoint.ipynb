{
 "cells": [
  {
   "cell_type": "markdown",
   "metadata": {},
   "source": [
    "# Clase 1\n",
    "- **Alumna:** Enya Quetzalli Gómez Rodríguez *(Eduardo Gómez Rodríguez)*\n",
    "- **Profesora:** Olga Kolesnikova\n",
    "- **Escuela:** Escuela Superior de Cómputo del IPN\n",
    "- **Grupo:** 3CV9\n",
    "- **Semestre:** 2020/2\n",
    "\n",
    "## Fundamentos del Lenguaje Natural\n",
    "\n",
    "El triangulo de referencia, nos permite visualizar las 3 bases sobre las que trabaja el lenguaje natural, y las relaciones que hay entre ambas.\n",
    "\n",
    "![](./trianguloDeReferencia.jpg)\n",
    "\n",
    "La dirección de encaje, nos permite visualizar como es que ver el ciclo de pensamiento humano con respecto al mundo y las palabras que usa para describirlo.\n",
    "\n",
    "![](./direccionDeEncaje.png)\n",
    "\n",
    "Niveles del Análisis del Lenguaje\n",
    "\t- Fonética\n",
    "\t- Fonología\n",
    "\t- Morfología\n",
    "\t- Sintaxis\n",
    "\t- Lexicología\n",
    "\t- Semántica\n",
    "\t- Pragmática\n",
    "\t- Análisis del discurso\n",
    "\t- Estilística\n"
   ]
  },
  {
   "cell_type": "code",
   "execution_count": null,
   "metadata": {},
   "outputs": [],
   "source": []
  }
 ],
 "metadata": {
  "kernelspec": {
   "display_name": "Python 3",
   "language": "python",
   "name": "python3"
  },
  "language_info": {
   "codemirror_mode": {
    "name": "ipython",
    "version": 3
   },
   "file_extension": ".py",
   "mimetype": "text/x-python",
   "name": "python",
   "nbconvert_exporter": "python",
   "pygments_lexer": "ipython3",
   "version": "3.7.6"
  }
 },
 "nbformat": 4,
 "nbformat_minor": 4
}
