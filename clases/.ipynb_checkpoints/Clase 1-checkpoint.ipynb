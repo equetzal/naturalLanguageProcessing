{
 "cells": [
  {
   "attachments": {},
   "cell_type": "markdown",
   "metadata": {},
   "source": [
    "\n",
    "# Clase 1\n",
    "- **Alumna:** Enya Quetzalli Gómez Rodríguez *(Eduardo Gómez Rodríguez)*\n",
    "- **Profesora:** Olga Kolesnikova\n",
    "- **Escuela** Escuela Superior de Cómputo del IPN\n",
    "\n",
    "## Fundamentos del Lenguaje Natural\n",
    "\n",
    "El triangulo de referencia, nos permite visualizar las 3 bases sobre las que trabaja el lenguaje natural, y las relaciones que hay entre ambas.\n",
    "\n",
    "<img src=\"./trianguloDeReferencia.jpg\" style=\"height: 300px;\"/>\n",
    "\n",
    "La dirección de encaje, nos permite visualizar como es que ver el ciclo de pensamiento humano con respecto al mundo y las palabras que usa para describirlo.\n",
    "\n",
    "<img src=\"./direccionDeEncaje.png\" style=\"height: 300px;\"/>\n",
    "\n",
    "Niveles del Análisis del Lenguaje\n",
    "\t- Fonética\n",
    "\t- Fonología\n",
    "\t- Morfología\n",
    "\t- Sintaxis\n",
    "\t- Lexicología\n",
    "\t- Semántica\n",
    "\t- Pragmática\n",
    "\t- Análisis del discurso\n",
    "\t- Estilística\n"
   ]
  }
 ],
 "metadata": {
  "kernelspec": {
   "display_name": "Python 3",
   "language": "python",
   "name": "python3"
  },
  "language_info": {
   "codemirror_mode": {
    "name": "ipython",
    "version": 3
   },
   "file_extension": ".py",
   "mimetype": "text/x-python",
   "name": "python",
   "nbconvert_exporter": "python",
   "pygments_lexer": "ipython3",
   "version": "3.7.6"
  }
 },
 "nbformat": 4,
 "nbformat_minor": 4
}
