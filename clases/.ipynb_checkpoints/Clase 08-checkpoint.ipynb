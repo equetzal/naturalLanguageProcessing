{
 "cells": [
  {
   "cell_type": "markdown",
   "metadata": {},
   "source": [
    "# Clase 8\n",
    "- **Alumna:** Enya Quetzalli Gómez Rodríguez *(Eduardo Gómez Rodríguez)*\n",
    "- **Profesora:** Olga Kolesnikova\n",
    "- **Escuela:** Escuela Superior de Cómputo del IPN\n",
    "- **Grupo:** 3CV9\n",
    "- **Semestre:** 2020/2\n",
    "\n",
    "## Similitud de Palabras\n",
    "Para poder determinar la similud de una palabra con otroa, debemos de conocer el contexto con el que estas son utilizadas, de modo de podemos utilizar vectores n-dimensionales donde la n es el tamaño del vocabulario con el que contamos y donde la i-ésima dimensión corresponde a la frecuenca con la que aparecen las palabras del contexto de nuestra palabra. \n",
    "#### Ventana de contexto\n",
    "La ventana de contexto, es la cantidad de la palabras que tomaremos a la izquierda y a la derecha de nuestra palabra objetivo, de forma que con dicho contexto lograremos obtener un vector n-dimensional para cada palabra con la que contemos. \n",
    "#### Determinación de similitud\n",
    "Utilizaremos el coseno del vector de una palabra $A$, con el de una palabra $B$, el cuál mientras más ceranos sean los vectores más tendrá a 1 el resultado del conseno, de forma que es una forma de saber que dos palabras son similares entre sí.\n",
    "$$\n",
    "similaridad(A,B) = \\dfrac{A \\cdot B}{||A||*||B||}\n",
    "$$\n"
   ]
  },
  {
   "cell_type": "code",
   "execution_count": null,
   "metadata": {},
   "outputs": [],
   "source": []
  }
 ],
 "metadata": {
  "kernelspec": {
   "display_name": "Python 3",
   "language": "python",
   "name": "python3"
  },
  "language_info": {
   "codemirror_mode": {
    "name": "ipython",
    "version": 3
   },
   "file_extension": ".py",
   "mimetype": "text/x-python",
   "name": "python",
   "nbconvert_exporter": "python",
   "pygments_lexer": "ipython3",
   "version": "3.7.6"
  }
 },
 "nbformat": 4,
 "nbformat_minor": 4
}
