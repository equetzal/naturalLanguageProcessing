{
 "cells": [
  {
   "cell_type": "markdown",
   "metadata": {},
   "source": [
    "# Clase 8\n",
    "- **Alumna:** Enya Quetzalli Gómez Rodríguez *(Eduardo Gómez Rodríguez)*\n",
    "- **Profesora:** Olga Kolesnikova\n",
    "- **Escuela:** Escuela Superior de Cómputo del IPN\n",
    "- **Grupo:** 3CV9\n",
    "- **Semestre:** 2020/2\n",
    "\n",
    "## Similitud de Palabras\n",
    "Para poder determinar la similud de una palabra con otroa, debemos de conocer el contexto con el que estas son utilizadas, de modo de podemos utilizar vectores n-dimensionales donde la n es el tamaño del vocabulario con el que contamos y donde la i-ésima dimensión corresponde a la frecuenca con la que aparecen las palabras del contexto de nuestra palabra. \n",
    "#### Ventana de contexto\n",
    "La ventana de contexto, es la cantidad de la palabras que tomaremos a la izquierda y a la derecha de nuestra palabra objetivo, de forma que con dicho contexto lograremos obtener un vector n-dimensional para cada palabra con la que contemos. \n",
    "#### Determinación de similitud\n",
    "Utilizaremos el coseno del vector de una palabra $A$, con el de una palabra $B$, el cuál mientras más ceranos sean los vectores más tendrá a 1 el resultado del conseno, de forma que es una forma de saber que dos palabras son similares entre sí.\n",
    "$$\n",
    "similaridad(A,B) = \\dfrac{A \\cdot B}{||A||*||B||}\n",
    "$$\n",
    "Finalmente ordenaremos todos los cosenos obtenidos de mayor a menor, es decir obtendremos una lista de palabras ordenadas de mayor a menor similaridad con una palabra objetivo que hayamos elegido."
   ]
  },
  {
   "cell_type": "markdown",
   "metadata": {},
   "source": [
    "## Práctica\n",
    "### Primero obtendremos nuestro texto normalizado"
   ]
  },
  {
   "cell_type": "code",
   "execution_count": 1,
   "metadata": {},
   "outputs": [],
   "source": [
    "import nltk"
   ]
  },
  {
   "cell_type": "code",
   "execution_count": 2,
   "metadata": {},
   "outputs": [],
   "source": [
    "def clean_html(txt):\n",
    "\tfrom bs4 import BeautifulSoup\n",
    "\treturn BeautifulSoup(txt,'lxml').get_text().lower()"
   ]
  },
  {
   "cell_type": "code",
   "execution_count": 3,
   "metadata": {},
   "outputs": [],
   "source": [
    "def split_text(txt):\n",
    "\treturn txt.replace('/', ' ').replace('.', ' ').replace('-', ' ')"
   ]
  },
  {
   "cell_type": "code",
   "execution_count": 4,
   "metadata": {},
   "outputs": [],
   "source": [
    "def delete_trash(txt):\n",
    "\timport re\n",
    "\tgood = {'\\n'}\n",
    "\tfor i in \"abcdefghijklmnopqrstuvwxyz áéíóúñü\":\n",
    "\t\tgood.add(i)\n",
    "\tans = \"\"\n",
    "\tfor c in txt:\n",
    "\t\tif c in good:\n",
    "\t\t\tans += c\n",
    "\treturn ans"
   ]
  },
  {
   "cell_type": "code",
   "execution_count": 5,
   "metadata": {},
   "outputs": [],
   "source": [
    "def delete_stopwords(txt):\n",
    "\tfrom nltk.corpus import stopwords\n",
    "\tans = []\n",
    "\tstp = stopwords.words()\n",
    "\tfor w in txt:\n",
    "\t\tif w not in stp:\n",
    "\t\t\tans.append(w)\n",
    "\treturn ans"
   ]
  },
  {
   "cell_type": "code",
   "execution_count": 6,
   "metadata": {},
   "outputs": [
    {
     "name": "stdout",
     "output_type": "stream",
     "text": [
      "['emod', 'htm', 'http', 'www', 'excelsior', 'mx', 'art', 'html', 'excelsior', 'editorial', 'jueves', 'octubre', 'epigrama', 'jorge', 'mansilla', 'torres', 'critica', 'miami', 'herald', 'presidente', 'ecuatoriano', 'autoproclamarse', 'loco', 'neoliberalismo', 'aplica', 'encomio', 'hace', 'mismo', 'país', 'manicomio', 'editorial', 'nota', 'siguiente', 'http', 'www', 'excelsior', 'mx', 'art', 'html', 'excelsior', 'editorial', 'jueves', 'octubre', 'hungría', 'rebelión', 'antiestalinista', 'oscar', 'gonzalez', 'lopez', 'curso', 'octubre', 'insurgencia', 'popular', 'comandada', 'estudiantes', 'intelectuales', 'obreros', 'partidarios', 'establecer', 'suelo', 'húngaro', 'régimen', 'socialista', 'libertad', 'creció', 'vertiginosamente', 'desembocar', 'auténtica', 'insurrección', 'armada', 'estructura', 'estalinista', 'surgido', 'consecuencia', 'resultados', 'primera', 'guerra', 'mundial', 'años', 'distancia', 'conviene', 'analizar', 'acontecimientos', 'otoño', 'magyar', 'dada', 'conducta', 'adoptada', 'gobierno', 'urss', 'partidos', 'comunistas', 'poder', 'actividad', 'parlamentaria', 'influencia', 'innegable', 'clase', 'trabajadora', 'países', 'europa', 'occidental', 'francia', 'italia', 'lucha', 'librada', 'condiciones', 'clandestinidad', 'persecución', 'dictaduras', 'españa', 'grecia', 'portugal', 'asentadas', 'patrocinio', 'estadunidense', 'mayoría', 'naciones', 'latinoamericanas', 'asombra', 'verdad', 'años', 'distancia', 'todavía', 'dado', 'yugulamiento', 'experiencia', 'checoslovaca', 'construir', 'socialismo', 'rostro', 'humano', 'primavera', 'mayoría', 'izquierda', 'comunista', 'aceptara', 'todas', 'latitudes', 'punto', 'vista', 'ideólogos', 'políticos', 'partido', 'comunista', 'urss', 'repitiera', 'hechos', 'ámbito', 'acción', 'militante', 'izquierda', 'años', 'escribe', 'líneas', 'asombra', 'verdad', 'así', 'segunda', 'mitad', 'años', 'intelectuales', 'renombre', 'mundial', 'simpatizantes', 'socialismo', 'soviético', 'partidos', 'comunistas', 'aceptaran', 'mayor', 'análisis', 'puntos', 'vista', 'moscú', 'execrables', 'procesos', 'terminaron', 'liquidación', 'lúcidos', 'probados', 'cuadros', 'políticos', 'militares', 'pcus', 'causaron', 'necrosis', 'socialismo', 'llamado', 'real', 'asombra', 'admitiera', 'septiembre', 'sarta', 'calumnias', 'gran', 'revolucionario', 'héroe', 'clase', 'trabajadora']\n"
     ]
    }
   ],
   "source": [
    "f = open(\"./c8_docs/e961024.htm\", \"r\", encoding=\"utf8\")\n",
    "org_txt = f.read()\n",
    "f.close()\n",
    "\n",
    "text = delete_trash(split_text(clean_html(org_txt)))\n",
    "tokens = delete_stopwords(nltk.word_tokenize(text))\n",
    "print(tokens[:200])"
   ]
  },
  {
   "cell_type": "markdown",
   "metadata": {},
   "source": [
    "### Obtener vocabulario\n",
    "El vocabulario determinará la cantidad de palabras diferentes con las que contamos, por lo que nuestro vector de similitud deberá ser de este tamaño $n$"
   ]
  },
  {
   "cell_type": "code",
   "execution_count": 7,
   "metadata": {},
   "outputs": [],
   "source": [
    "def get_vocabulary(tokens):\n",
    "\tvocabulary = sorted(set(tokens))\n",
    "\treturn vocabulary"
   ]
  },
  {
   "cell_type": "code",
   "execution_count": 8,
   "metadata": {},
   "outputs": [
    {
     "name": "stdout",
     "output_type": "stream",
     "text": [
      "['abad', 'abajo', 'abanderada', 'abandonado', 'abandonar', 'abandonarnos', 'abarcar', 'abascadocarranza', 'abastecer', 'abastecerá', 'abasteciera', 'abastecimiento', 'abasto', 'abatieran', 'abatir', 'abierta', 'abiertamente', 'abiertas', 'abierto', 'abocará', 'aboga', 'abogado', 'abogaron', 'aborda', 'abordaremos', 'abordarán', 'aborto', 'abracadabrante', 'abran', 'abrazarlo', 'abre', 'abren', 'abriendo', 'abriera', 'abrieron', 'abril', 'abrir', 'abrió', 'abrumado', 'abrupta', 'abrían', 'absolutamente', 'absolutismo', 'absolutizadas', 'absoluto', 'absorber', 'absorbería', 'absorción', 'abstecimiento', 'abstracciones', 'abstracción', 'absurdo', 'abundantes', 'abundar', 'abundó', 'aburrimiento', 'abusar', 'acaban', 'acabar', 'acabó', 'academia', 'académico', 'acantonadas', 'acaparó', 'acapulco', 'acariciando', 'acarrearía', 'acaso', 'acataría', 'acceder', 'accedido', 'accesible', 'acceso', 'accionaria', 'accionarias', 'accionario', 'acciones', 'accionistas', 'acción', 'aceite', 'acelerada', 'acelerado', 'acencaba', 'acentuado', 'acepta', 'aceptable', 'aceptables', 'aceptado', 'aceptan', 'aceptar', 'aceptara', 'aceptaran', 'acepte', 'aceptó', 'acerca', 'acercamiento', 'acercarnos', 'acero', 'acerquen', 'acertadísimas']\n"
     ]
    }
   ],
   "source": [
    "vocav = get_vocabulary(tokens)\n",
    "print(vocav[:100])"
   ]
  },
  {
   "cell_type": "markdown",
   "metadata": {},
   "source": [
    "### Obtener ventanas de contexto\n",
    "En este punto, obtendremos un diccionario que contenga las palabras que formen parte del contexto de cada palabra. \n",
    "Dado que será un proceso tardado, exportaremos este archivo en formato json para no tener que recalcular esta tarea en cada ocasión. "
   ]
  },
  {
   "cell_type": "code",
   "execution_count": 9,
   "metadata": {},
   "outputs": [],
   "source": [
    "def get_contexts(wordList, windowSize=4):\n",
    "    contexts = dict()\n",
    "    index = 0\n",
    "    for index in range(len(wordList)):\n",
    "        word = wordList[index]\n",
    "        if word not in contexts:\n",
    "            contexts[word] = []\n",
    "        start = max(0, index - windowSize)\n",
    "        end = min(index + windowSize, len(wordList) - 1)\n",
    "        for i in range(start, end + 1):\n",
    "            if i != index:\n",
    "                contexts[word].append(wordList[i])\n",
    "    return contexts"
   ]
  },
  {
   "cell_type": "code",
   "execution_count": 10,
   "metadata": {},
   "outputs": [],
   "source": [
    "def dump_context(contexts):\n",
    "    import json\n",
    "    with open('./c8_docs/contexts.json', 'w') as outfile:\n",
    "        json.dump(contexts, outfile, indent=4)"
   ]
  },
  {
   "cell_type": "code",
   "execution_count": 11,
   "metadata": {},
   "outputs": [],
   "source": [
    "contexts = get_contexts(tokens)"
   ]
  },
  {
   "cell_type": "code",
   "execution_count": 12,
   "metadata": {},
   "outputs": [
    {
     "name": "stdout",
     "output_type": "stream",
     "text": [
      "[('abad', ['propio', 'deshaciéndose', 'molesta', 'injerencia', 'emérito', 'guadalupe', 'contextos', 'ahora']), ('abajo', ['raúl', 'castellanos', 'explicó', 'pleno', 'tribuna', 'sorpresivo', 'voto', 'diferenciado', 'ingresos', 'minorías', 'empujadas', 'aún', 'debido', 'inmigrantes', 'ocupan', 'empleos']), ('abanderada', ['tómese', 'cuenta', 'aquellas', 'corrientes', 'poderoso', 'irresistible', 'dogma', 'privatización']), ('abandonado', ['lanzando', 'regreso', 'atribulados', 'feligreses', 'rebaño', 'atraídos', 'hedonismo', 'urbes']), ('abandonar', ['carácter', 'religioso', 'necesario', 'añadieron', 'posturas', 'intransigentes', 'confrontación', 'país']), ('abandonarnos', ['dejar', 'comer', 'tener', 'hijos', 'morirnos', 'gustavo', 'edmundo', 'magdalena']), ('abarcar', ['emitidos', 'mercados', 'prosperó', 'propósito', 'operaciones', 'derivadas', 'grupos', 'financieros']), ('abascadocarranza', ['respondió', 'prudente', 'panista', 'salvador', 'terció', 'discusión', 'corrupción', 'asentó']), ('abastecer', ['planta', 'productiva', 'nacional', 'reto', 'sector', 'representa', 'mercado', 'mil', 'emprender', 'mayor', 'esfuerzo', 'lograr', 'rama', 'industrial', 'aún', 'refleja']), ('abastecerá', ['gasoducto', 'millas', 'jueves', 'pasado', 'millones', 'pies', 'cúbicos', 'gas'])]\n"
     ]
    }
   ],
   "source": [
    "print(sorted(contexts.items())[:10])"
   ]
  },
  {
   "cell_type": "markdown",
   "metadata": {},
   "source": [
    "### Obtener vector de similitud\n",
    "Para ello haremos uso de la librería de *numpy* y *math*"
   ]
  },
  {
   "cell_type": "code",
   "execution_count": 13,
   "metadata": {},
   "outputs": [],
   "source": [
    "import numpy\n",
    "vectors = dict()\n",
    "for target, context in contexts.items():\n",
    "    cF = dict()\n",
    "    for word in context:\n",
    "        if word not in cF:\n",
    "            cF[word] = 0\n",
    "        cF[word] += 1\n",
    "    l = numpy.zeros(len(vocav))\n",
    "    for i in range(len(vocav)):\n",
    "        word = vocav[i]\n",
    "        if word in cF:\n",
    "            l[i] = cF[word]\n",
    "    vectors[target] = l"
   ]
  },
  {
   "cell_type": "code",
   "execution_count": 14,
   "metadata": {},
   "outputs": [],
   "source": [
    "ans = []\n",
    "v1 = vectors[\"acero\"]\n",
    "for word in vocav:\n",
    "    v2 = vectors[word]\n",
    "    cosine = numpy.dot(v1, v2) / numpy.sqrt(numpy.sum(v1 ** 2)) / numpy.sqrt(numpy.sum(v2 ** 2))\n",
    "    ans.append((word, cosine))\n",
    "ans.sort(key = lambda x: x[1], reverse=True)"
   ]
  },
  {
   "cell_type": "code",
   "execution_count": 15,
   "metadata": {},
   "outputs": [],
   "source": [
    "with open(\"./c8_docs/similarity.txt\", \"w\", encoding=\"utf8\") as f:\n",
    "    for par in ans:\n",
    "        f.write(F\"{par[0]} {par[1]}\\n\")"
   ]
  },
  {
   "cell_type": "code",
   "execution_count": 16,
   "metadata": {},
   "outputs": [
    {
     "name": "stdout",
     "output_type": "stream",
     "text": [
      "acero 0.9999999999999999\n",
      "\n",
      "pesado 0.7499999999999999\n",
      "\n",
      "trasladado 0.7499999999999999\n",
      "\n",
      "cable 0.5303300858899106\n",
      "\n",
      "cobre 0.49999999999999994\n",
      "\n",
      "desmaterializado 0.37499999999999994\n",
      "\n",
      "microprocesadores 0.37499999999999994\n",
      "\n",
      "tubos 0.37499999999999994\n",
      "\n",
      "vacío 0.35355339059327373\n",
      "\n",
      "cables 0.24999999999999997\n",
      "\n",
      "compromete 0.24999999999999997\n",
      "\n",
      "penetración 0.24999999999999997\n",
      "\n",
      "quede 0.24253562503633294\n",
      "\n",
      "sostenible 0.22360679774997894\n",
      "\n",
      "sino 0.21465741571734478\n",
      "\n",
      "cubrir 0.2080125735844609\n",
      "\n",
      "desplome 0.2080125735844609\n",
      "\n",
      "paralelamente 0.2041241452319315\n",
      "\n",
      "evitando 0.17677669529663687\n",
      "\n",
      "finalizar 0.17677669529663687\n",
      "\n",
      "crean 0.16666666666666666\n",
      "\n",
      "externo 0.16439898730535726\n",
      "\n",
      "depresión 0.15811388300841894\n",
      "\n",
      "frijol 0.15811388300841894\n",
      "\n",
      "consumo 0.14433756729740643\n",
      "\n",
      "cosas 0.1424507205745474\n",
      "\n",
      "tan 0.14048787173725408\n",
      "\n",
      "luz 0.1386750490563073\n",
      "\n",
      "alrededor 0.1360827634879543\n",
      "\n",
      "producción 0.13514747567989718\n",
      "\n"
     ]
    }
   ],
   "source": [
    "for par in ans[:30]:\n",
    "    print(F\"{par[0]} {par[1]}\\n\")"
   ]
  }
 ],
 "metadata": {
  "kernelspec": {
   "display_name": "Python 3",
   "language": "python",
   "name": "python3"
  },
  "language_info": {
   "codemirror_mode": {
    "name": "ipython",
    "version": 3
   },
   "file_extension": ".py",
   "mimetype": "text/x-python",
   "name": "python",
   "nbconvert_exporter": "python",
   "pygments_lexer": "ipython3",
   "version": "3.7.6"
  }
 },
 "nbformat": 4,
 "nbformat_minor": 4
}
